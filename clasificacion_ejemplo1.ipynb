{
 "cells": [
  {
   "cell_type": "markdown",
   "metadata": {},
   "source": [
    "# Introducción a MLflow\n",
    "\n",
    "MLflow es una plataforma de código abierto para el ciclo de vida del aprendizaje automático (ML), con un enfoque en la reproducibilidad, el entrenamiento y la implementación. Está basado en un diseño de interfaz abierta y es capaz de trabajar con cualquier lenguaje o plataforma, con clientes en Python y Java, y es accesible a través de una API REST. La escalabilidad también es un beneficio importante que un desarrollador de ML puede aprovechar con MLflow.\n",
    "\n",
    "El proposito de este cuaderno,  es ver cómo funciona MLflow, con la ayuda de ejemplos y código de muestra. Esto construirá la base necesaria para el resto a fin de utilizar el concepto para diseñar un proyecto de ML de extremo a extremo.\n"
   ]
  },
  {
   "cell_type": "markdown",
   "metadata": {},
   "source": [
    "## **¿Qué es MLflow?**\n",
    "Implementar un producto basado en ML puede ser una tarea laboriosa. Existe una necesidad general de reducir la fricción entre los diferentes pasos del ciclo de vida de desarrollo de ML y entre los equipos de científicos e ingenieros de datos que participan en el proceso.\n",
    "\n",
    "Los profesionales de ML, como los científicos de datos y los ingenieros de ML, operan con diferentes sistemas, estándares y herramientas. Si bien los científicos de datos pasan la mayor parte de su tiempo desarrollando modelos en herramientas como Jupyter Notebooks, cuando se ejecutan en producción, el modelo se implementa en el contexto de una aplicación de software con un entorno que es más exigente en términos de escala y confiabilidad.\n",
    "\n",
    "Una ocurrencia común en los proyectos de ML es que un equipo de ingeniería vuelva a implementar los modelos, creando un sistema personalizado para servir al modelo específico. Un conjunto de desafíos son comunes con los equipos que siguen enfoques personalizados con respecto al desarrollo de modelos:\n",
    "* Proyectos de ML que superan el presupuesto debido a la necesidad de crear una infraestructura de software a medida para desarrollar y servir modelos\n",
    "* Errores de traducción al reimplementar los modelos producidos por científicos de datos\n",
    "* Problemas de escalabilidad al entregar predicciones\n",
    "* Fricción a la hora de reproducir procesos de formación entre científicos de datos por falta de entornos estándar"
   ]
  },
  {
   "cell_type": "markdown",
   "metadata": {},
   "source": [
    "Las empresas que aprovechan ML tienden a crear sus propios sistemas internos (a menudo extremadamente laboriosos) para garantizar un proceso fluido y estructurado de desarrollo de ML. Las plataformas de ML ampliamente documentadas incluyen sistemas como Michelangelo y FBLearner, de Uber y Facebook, respectivamente.\n",
    "\n",
    "Es en el contexto de la creciente adopción de ML que MLflow se creó inicialmente en Databricks y de código abierto como plataforma, para ayudar en la implementación de sistemas de ML.\n",
    "\n",
    "MLflow permite a un profesional diario en una plataforma administrar el ciclo de vida de ML, desde la iteración en el desarrollo del modelo hasta la implementación en un entorno confiable y escalable que es compatible con los requisitos del sistema de software moderno."
   ]
  },
  {
   "cell_type": "markdown",
   "metadata": {},
   "source": [
    "## Componetes de MLflow\n",
    "Los módulos de MLflow son componentes de software que ofrecen las características principales que ayudan en las diferentes fases del ciclo de vida de ML. Las características de MLflow se entregan a través de módulos, componentes extensibles que organizan características relacionadas en la plataforma.\n",
    "\n",
    "Los siguientes son los módulos integrados en MLflow:\n",
    "* **Seguimiento de MLflow (MLflow Tracking):** proporciona un mecanismo y una interfaz de usuario para manejar métricas y artefactos generados por ejecuciones de ML (entrenamiento e inferencia)\n",
    "* **Mlflow Projects:** un formato de paquete para estandarizar proyectos de ML.\n",
    "* **Modelos Mlflow:** un mecanismo que se implementa en diferentes tipos de entornos, tanto locales como en la nube\n",
    "* **Registro de modelos de Mlflow:** un módulo que maneja la gestión de modelos en MLflow y su ciclo de vida, incluido el estado"
   ]
  },
  {
   "cell_type": "code",
   "execution_count": null,
   "metadata": {},
   "outputs": [],
   "source": []
  },
  {
   "cell_type": "markdown",
   "metadata": {},
   "source": [
    "## **Explorando MLflow tracking**\n",
    "El componente de MLflow tracking es responsable de la observabilidad. Las características principales de este módulo son el registro de métricas, artifact y parámetros de una ejecución de MLflow. Proporciona visualizaciones y funciones de gestión de artifact.\n",
    "\n",
    "En una configuración de producción, se usa como un servidor de seguimiento centralizado implementado en Python que puede ser compartido por un grupo de profesionales de ML en una organización. Esto permite que las mejoras en los modelos de ML se compartan dentro de la organización.\n",
    "\n",
    "El interfaz que registra todas las ejecuciones de su modelo y le permite registrar los observables de su experimento (métricas, archivos, modelos y artifact). Para cada ejecución, puede buscar y comparar las diferentes métricas y parámetros de su módulo.\n",
    "\n",
    "Aborda los puntos débiles comunes cuando los desarrolladores de modelos comparan diferentes iteraciones de sus modelos en diferentes parámetros y configuraciones."
   ]
  },
  {
   "cell_type": "markdown",
   "metadata": {},
   "source": [
    "# Model Experimentation Tracking (MLFow)"
   ]
  },
  {
   "cell_type": "markdown",
   "metadata": {},
   "source": [
    "### Record and query experiments: Code, data, config, results, parameters, metrics\n",
    "\n",
    "![Data](images/MLflow_Model_experimentation.png)"
   ]
  },
  {
   "cell_type": "markdown",
   "metadata": {
    "id": "FQr7W0gHGj9D"
   },
   "source": [
    "## Importamos las librerias"
   ]
  },
  {
   "cell_type": "code",
   "execution_count": 1,
   "metadata": {
    "colab": {
     "base_uri": "https://localhost:8080/",
     "height": 42
    },
    "executionInfo": {
     "elapsed": 4760,
     "status": "ok",
     "timestamp": 1555806967841,
     "user": {
      "displayName": "Vivek Kumar",
      "photoUrl": "https://lh6.googleusercontent.com/-cP-Bpvpzsbc/AAAAAAAAAAI/AAAAAAAAD78/l6XcNlPEAnc/s64/photo.jpg",
      "userId": "15067720337527944902"
     },
     "user_tz": -330
    },
    "id": "wSeHWATZsddI",
    "outputId": "bb370675-82bf-4829-815f-49404031ec9f"
   },
   "outputs": [],
   "source": [
    "# Análisis y tratamiento de datos\n",
    "import numpy as np\n",
    "import pandas as pd\n",
    "\n",
    "# Machine Learning library\n",
    "import sklearn\n",
    "from sklearn.metrics import roc_curve, auc, accuracy_score, plot_confusion_matrix, plot_roc_curve\n",
    "from sklearn.preprocessing import LabelEncoder\n",
    "from sklearn.model_selection import train_test_split\n",
    "from sklearn.linear_model import LogisticRegression\n",
    "from sklearn.tree import DecisionTreeClassifier\n",
    "from sklearn.ensemble import RandomForestClassifier, GradientBoostingClassifier\n",
    "\n",
    "# pip install --force-reinstall graphviz==0.18\n",
    "import lightgbm as lgb\n",
    "from lightgbm import LGBMClassifier\n",
    "from lightgbm import plot_importance, plot_metric\n",
    "\n",
    "# Model experimentation library\n",
    "import mlflow\n",
    "import mlflow.sklearn\n",
    "from mlflow.tracking import MlflowClient\n",
    "\n",
    "# Plotting library\n",
    "import matplotlib.pyplot as plt\n",
    "import warnings\n",
    "warnings.filterwarnings(\"ignore\")"
   ]
  },
  {
   "cell_type": "code",
   "execution_count": 2,
   "metadata": {},
   "outputs": [
    {
     "name": "stdout",
     "output_type": "stream",
     "text": [
      "Versión Numpy es 1.21.6\n",
      "Versión Pandas es 1.4.3\n",
      "Versión sklearn es 1.0.2\n",
      "Versión mlflow es 1.22.0\n"
     ]
    }
   ],
   "source": [
    "print(f'Versión Numpy es {np.__version__}')\n",
    "print(f'Versión Pandas es {pd.__version__}')\n",
    "print(f'Versión sklearn es {sklearn.__version__}')\n",
    "print(f'Versión mlflow es {mlflow.__version__}')"
   ]
  },
  {
   "cell_type": "markdown",
   "metadata": {
    "id": "zNvnWiStLMT4"
   },
   "source": [
    "## Cargamos nuestro datos"
   ]
  },
  {
   "cell_type": "code",
   "execution_count": 3,
   "metadata": {
    "colab": {
     "base_uri": "https://localhost:8080/",
     "height": 50
    },
    "executionInfo": {
     "elapsed": 4689,
     "status": "ok",
     "timestamp": 1555809124644,
     "user": {
      "displayName": "Vivek Kumar",
      "photoUrl": "https://lh6.googleusercontent.com/-cP-Bpvpzsbc/AAAAAAAAAAI/AAAAAAAAD78/l6XcNlPEAnc/s64/photo.jpg",
      "userId": "15067720337527944902"
     },
     "user_tz": -330
    },
    "id": "Z1EBPLhVNnZO",
    "outputId": "8cbe010c-4d26-4021-c725-73350fe14cb3"
   },
   "outputs": [
    {
     "name": "stdout",
     "output_type": "stream",
     "text": [
      "El conjunto de datos tiene 215 muestras con 15 características.\n"
     ]
    }
   ],
   "source": [
    "## archivo\n",
    "data_file = 'Placement_Data_Full_Class.csv'\n",
    "\n",
    "# cargamos el dataset\n",
    "try:\n",
    "    data = pd.read_csv(data_file)\n",
    "    print(\"El conjunto de datos tiene {} muestras con {} características.\".format(*data.shape))\n",
    "except:\n",
    "    print(\"No se pudo cargar el conjunto de datos. ¿Falta el conjunto de datos?\")"
   ]
  },
  {
   "cell_type": "markdown",
   "metadata": {
    "id": "THxhQRYOOxkZ"
   },
   "source": [
    "## Explorando nuestro dataset"
   ]
  },
  {
   "cell_type": "code",
   "execution_count": 4,
   "metadata": {
    "colab": {
     "base_uri": "https://localhost:8080/",
     "height": 246
    },
    "executionInfo": {
     "elapsed": 2730,
     "status": "ok",
     "timestamp": 1555756161637,
     "user": {
      "displayName": "Vivek Kumar",
      "photoUrl": "https://lh6.googleusercontent.com/-cP-Bpvpzsbc/AAAAAAAAAAI/AAAAAAAAD78/l6XcNlPEAnc/s64/photo.jpg",
      "userId": "15067720337527944902"
     },
     "user_tz": -330
    },
    "id": "ImRdfUXusm7O",
    "outputId": "bcae0e64-9146-4df1-d98a-5f2c42c05789"
   },
   "outputs": [
    {
     "data": {
      "text/html": [
       "<div>\n",
       "<style scoped>\n",
       "    .dataframe tbody tr th:only-of-type {\n",
       "        vertical-align: middle;\n",
       "    }\n",
       "\n",
       "    .dataframe tbody tr th {\n",
       "        vertical-align: top;\n",
       "    }\n",
       "\n",
       "    .dataframe thead th {\n",
       "        text-align: right;\n",
       "    }\n",
       "</style>\n",
       "<table border=\"1\" class=\"dataframe\">\n",
       "  <thead>\n",
       "    <tr style=\"text-align: right;\">\n",
       "      <th></th>\n",
       "      <th>sl_no</th>\n",
       "      <th>gender</th>\n",
       "      <th>ssc_p</th>\n",
       "      <th>ssc_b</th>\n",
       "      <th>hsc_p</th>\n",
       "      <th>hsc_b</th>\n",
       "      <th>hsc_s</th>\n",
       "      <th>degree_p</th>\n",
       "      <th>degree_t</th>\n",
       "      <th>workex</th>\n",
       "      <th>etest_p</th>\n",
       "      <th>specialisation</th>\n",
       "      <th>mba_p</th>\n",
       "      <th>status</th>\n",
       "      <th>salary</th>\n",
       "    </tr>\n",
       "  </thead>\n",
       "  <tbody>\n",
       "    <tr>\n",
       "      <th>0</th>\n",
       "      <td>1</td>\n",
       "      <td>M</td>\n",
       "      <td>67.00</td>\n",
       "      <td>Others</td>\n",
       "      <td>91.00</td>\n",
       "      <td>Others</td>\n",
       "      <td>Commerce</td>\n",
       "      <td>58.00</td>\n",
       "      <td>Sci&amp;Tech</td>\n",
       "      <td>No</td>\n",
       "      <td>55.0</td>\n",
       "      <td>Mkt&amp;HR</td>\n",
       "      <td>58.80</td>\n",
       "      <td>Placed</td>\n",
       "      <td>270000.0</td>\n",
       "    </tr>\n",
       "    <tr>\n",
       "      <th>1</th>\n",
       "      <td>2</td>\n",
       "      <td>M</td>\n",
       "      <td>79.33</td>\n",
       "      <td>Central</td>\n",
       "      <td>78.33</td>\n",
       "      <td>Others</td>\n",
       "      <td>Science</td>\n",
       "      <td>77.48</td>\n",
       "      <td>Sci&amp;Tech</td>\n",
       "      <td>Yes</td>\n",
       "      <td>86.5</td>\n",
       "      <td>Mkt&amp;Fin</td>\n",
       "      <td>66.28</td>\n",
       "      <td>Placed</td>\n",
       "      <td>200000.0</td>\n",
       "    </tr>\n",
       "    <tr>\n",
       "      <th>2</th>\n",
       "      <td>3</td>\n",
       "      <td>M</td>\n",
       "      <td>65.00</td>\n",
       "      <td>Central</td>\n",
       "      <td>68.00</td>\n",
       "      <td>Central</td>\n",
       "      <td>Arts</td>\n",
       "      <td>64.00</td>\n",
       "      <td>Comm&amp;Mgmt</td>\n",
       "      <td>No</td>\n",
       "      <td>75.0</td>\n",
       "      <td>Mkt&amp;Fin</td>\n",
       "      <td>57.80</td>\n",
       "      <td>Placed</td>\n",
       "      <td>250000.0</td>\n",
       "    </tr>\n",
       "    <tr>\n",
       "      <th>3</th>\n",
       "      <td>4</td>\n",
       "      <td>M</td>\n",
       "      <td>56.00</td>\n",
       "      <td>Central</td>\n",
       "      <td>52.00</td>\n",
       "      <td>Central</td>\n",
       "      <td>Science</td>\n",
       "      <td>52.00</td>\n",
       "      <td>Sci&amp;Tech</td>\n",
       "      <td>No</td>\n",
       "      <td>66.0</td>\n",
       "      <td>Mkt&amp;HR</td>\n",
       "      <td>59.43</td>\n",
       "      <td>Not Placed</td>\n",
       "      <td>NaN</td>\n",
       "    </tr>\n",
       "    <tr>\n",
       "      <th>4</th>\n",
       "      <td>5</td>\n",
       "      <td>M</td>\n",
       "      <td>85.80</td>\n",
       "      <td>Central</td>\n",
       "      <td>73.60</td>\n",
       "      <td>Central</td>\n",
       "      <td>Commerce</td>\n",
       "      <td>73.30</td>\n",
       "      <td>Comm&amp;Mgmt</td>\n",
       "      <td>No</td>\n",
       "      <td>96.8</td>\n",
       "      <td>Mkt&amp;Fin</td>\n",
       "      <td>55.50</td>\n",
       "      <td>Placed</td>\n",
       "      <td>425000.0</td>\n",
       "    </tr>\n",
       "  </tbody>\n",
       "</table>\n",
       "</div>"
      ],
      "text/plain": [
       "   sl_no gender  ssc_p    ssc_b  hsc_p    hsc_b     hsc_s  degree_p  \\\n",
       "0      1      M  67.00   Others  91.00   Others  Commerce     58.00   \n",
       "1      2      M  79.33  Central  78.33   Others   Science     77.48   \n",
       "2      3      M  65.00  Central  68.00  Central      Arts     64.00   \n",
       "3      4      M  56.00  Central  52.00  Central   Science     52.00   \n",
       "4      5      M  85.80  Central  73.60  Central  Commerce     73.30   \n",
       "\n",
       "    degree_t workex  etest_p specialisation  mba_p      status    salary  \n",
       "0   Sci&Tech     No     55.0         Mkt&HR  58.80      Placed  270000.0  \n",
       "1   Sci&Tech    Yes     86.5        Mkt&Fin  66.28      Placed  200000.0  \n",
       "2  Comm&Mgmt     No     75.0        Mkt&Fin  57.80      Placed  250000.0  \n",
       "3   Sci&Tech     No     66.0         Mkt&HR  59.43  Not Placed       NaN  \n",
       "4  Comm&Mgmt     No     96.8        Mkt&Fin  55.50      Placed  425000.0  "
      ]
     },
     "execution_count": 4,
     "metadata": {},
     "output_type": "execute_result"
    }
   ],
   "source": [
    "data.head()"
   ]
  },
  {
   "cell_type": "code",
   "execution_count": 5,
   "metadata": {
    "colab": {
     "base_uri": "https://localhost:8080/",
     "height": 70
    },
    "executionInfo": {
     "elapsed": 774,
     "status": "ok",
     "timestamp": 1555469230652,
     "user": {
      "displayName": "Vivek Kumar",
      "photoUrl": "https://lh6.googleusercontent.com/-cP-Bpvpzsbc/AAAAAAAAAAI/AAAAAAAAD78/l6XcNlPEAnc/s64/photo.jpg",
      "userId": "15067720337527944902"
     },
     "user_tz": -330
    },
    "id": "qzxmfXGtJ1Jx",
    "outputId": "cfe529f5-602d-480c-8aa3-5de57a21e997"
   },
   "outputs": [
    {
     "data": {
      "text/plain": [
       "Placed        148\n",
       "Not Placed     67\n",
       "Name: status, dtype: int64"
      ]
     },
     "execution_count": 5,
     "metadata": {},
     "output_type": "execute_result"
    }
   ],
   "source": [
    "data['status'].value_counts()"
   ]
  },
  {
   "cell_type": "markdown",
   "metadata": {},
   "source": [
    "## Start MLflow UI"
   ]
  },
  {
   "cell_type": "code",
   "execution_count": 6,
   "metadata": {},
   "outputs": [
    {
     "name": "stdout",
     "output_type": "stream",
     "text": [
      "^C\n"
     ]
    }
   ],
   "source": [
    "!mlflow ui"
   ]
  },
  {
   "cell_type": "markdown",
   "metadata": {},
   "source": [
    "## Initialize MLflow\n",
    "\n",
    "**Experiments** : Puede organizar ejecuciones en experimentos, que agrupan ejecuciones para una tarea específica.\n",
    "\n",
    "**Tracking URI**: Las ejecuciones de MLflow se pueden grabar en archivos locales, en una base de datos o de forma remota en un servidor de seguimiento. De forma predeterminada, los registros de la API Python de MLflow se ejecutan localmente en archivos en un directorio mlruns dondequiera que haya ejecutado su programa.\n",
    "\n",
    "#### MLflow Tracking Servers \n",
    "El servidor de seguimiento de MLflow tiene dos componentes para el almacenamiento: a **backend store** and an **artifact store**\n",
    "\n",
    "El **backend store** es donde MLflow Tracking Server almacena metadatos de experimentos y ejecuciones, así como parámetros, métricas y etiquetas para ejecuciones. MLflow admite dos tipos de almacenes backend: **file store and database-backed store**.\n",
    "\n",
    "El **artifact store** es una ubicación adecuada para grandes datos (como un depósito S3 o un sistema de archivos NFS compartido) y es donde los clientes registran la salida de sus artefactos (por ejemplo, modelos).\n",
    "\n",
    "    Amazon S3 and S3-compatible storage\n",
    "    Azure Blob Storage\n",
    "    Google Cloud Storage\n",
    "    FTP server\n",
    "    SFTP Server\n",
    "    NFS\n",
    "    HDFS"
   ]
  },
  {
   "cell_type": "code",
   "execution_count": 8,
   "metadata": {},
   "outputs": [],
   "source": [
    "experiment_name = \"Modelo de Clasificación\"\n",
    "artifact_repository = './mlflow-run'\n",
    "\n",
    "# Proporcione uri y conéctese a su servidor de seguimiento\n",
    "mlflow.set_tracking_uri('http://127.0.0.1:5000/')\n",
    "\n",
    "# Inicializar cliente MLflow\n",
    "client = MlflowClient()\n",
    "\n",
    "# Si el experimento no existe, creará un nuevo\n",
    "# de lo contrario, tomará la identificación del experimento y lo usará para ejecutar los experimentos\n",
    "try:\n",
    "    # Creamos el experimento\n",
    "    experiment_id = client.create_experiment(experiment_name, artifact_location=artifact_repository)\n",
    "except:\n",
    "    # Obtener la identificación del experimento si ya existe\n",
    "    experiment_id = client.get_experiment_by_name(experiment_name).experiment_id"
   ]
  },
  {
   "cell_type": "markdown",
   "metadata": {},
   "source": [
    "## Preparar datos para el entrenamiento del modelo"
   ]
  },
  {
   "cell_type": "code",
   "execution_count": 14,
   "metadata": {},
   "outputs": [],
   "source": [
    "exclude_feature = ['sl_no', 'salary', 'status']\n",
    "# Define Target columns\n",
    "target = data['status'].map({\"Placed\": 0 , \"Not Placed\": 1})\n",
    "\n",
    "# Definir características numéricas y categóricas\n",
    "numeric_columns = data.select_dtypes(include=['int64', 'float64']).columns.tolist()\n",
    "categorical_columns = data.select_dtypes(include=['object']).columns.tolist()\n",
    "numeric_features = [col for col in numeric_columns if col not in exclude_feature]\n",
    "categorical_features = [col for col in categorical_columns if col not in exclude_feature]\n",
    "\n",
    "# Definir la lista final de características para entrenamiento y validación.\n",
    "features = numeric_features + categorical_features\n",
    "\n",
    "# Datos finales para entrenamiento y validación\n",
    "data = data[features]\n",
    "data = data.fillna(0)\n",
    "\n",
    "# Split data in train and vlaidation\n",
    "X_train, X_valid, y_train, y_valid = train_test_split(data, target, test_size=0.15, random_state=10)\n",
    "\n",
    "# Realizar codificación de etiquetas para variables categóricas\n",
    "for feature in categorical_features:\n",
    "    le = LabelEncoder()\n",
    "    le.fit(X_train.loc[:, feature])\n",
    "    X_train.loc[:, feature] = le.transform(X_train.loc[:, feature])\n",
    "    X_valid.loc[:, feature] = le.transform(X_valid.loc[:, feature])"
   ]
  },
  {
   "cell_type": "markdown",
   "metadata": {},
   "source": [
    "## Definir la función de experimentación del modelo MLFlow"
   ]
  },
  {
   "cell_type": "code",
   "execution_count": 17,
   "metadata": {},
   "outputs": [],
   "source": [
    "def model_experimentation(classifier, param, model_name, run_name):\n",
    "        # Lanzar múltiples ejecuciones en un programa. Esto es fácil de hacer porque el objeto ActiveRun \n",
    "        #devuelto por mlflow.start_run() es un\n",
    "        # Administrador de contexto de Python. Puede \"alcanzar\" cada ejecución a un solo bloque de código \n",
    "        #de la siguiente manera:\n",
    "    with mlflow.start_run(experiment_id=experiment_id, run_name=run_name) as run:\n",
    "        # Get run id \n",
    "        run_id = run.info.run_uuid\n",
    "        \n",
    "        # Proporcione notas breves sobre el run.\n",
    "        MlflowClient().set_tag(run_id,\n",
    "                               \"mlflow.note.content\",\n",
    "                \"Este es un experimento para explorar diferentes modelos de aprendizaje automático para Campus Recruitment Dataset\")\n",
    "\n",
    "        # Para habilitar el registro automático para estimadores de scikit-learn.\n",
    "         # 1) Parámetros del estimador de registros\n",
    "         # 2) Registrar métricas comunes para el clasificador\n",
    "         # 3) Artefactos del modelo de registro\n",
    "        mlflow.sklearn.autolog()\n",
    "\n",
    "        # Definimos el custom tag\n",
    "        tags = {\"Application\": \"Payment Monitoring Platform\",\n",
    "                \"release.candidate\": \"PMP\",\n",
    "                \"release.version\": \"2.2.0\"}\n",
    "        \n",
    "        # Set Tag\n",
    "        mlflow.set_tags(tags)\n",
    "                        \n",
    "        # Log python environment details\n",
    "        mlflow.log_artifact('requirements.txt')\n",
    "        \n",
    "        # llevar acabo el model training\n",
    "        clf = classifier(**param)\n",
    "        clf.fit(X_train, y_train)\n",
    "\n",
    "        # LLevar acabo la evaluación del modelo\n",
    "        valid_prediction = clf.predict_proba(X_valid)[:, 1]\n",
    "        fpr, tpr, thresholds = roc_curve(y_valid, valid_prediction)\n",
    "        roc_auc = auc(fpr, tpr) # compute area under the curve\n",
    "        print(\"=====================================\")\n",
    "        print(\"Validación AUC:{}\".format(roc_auc))\n",
    "        print(\"=====================================\")\n",
    "        \n",
    "        # log metrics\n",
    "        mlflow.log_metrics({\"Validation_AUC\": roc_auc})\n",
    "\n",
    "        # gráficos y save metrics details    \n",
    "        plot_confusion_matrix(clf, X_valid, y_valid, \n",
    "                              display_labels=['Placed', 'Not Placed'],\n",
    "                              cmap='magma')\n",
    "        plt.title('Confusion Matrix')\n",
    "        filename = f'./images/{model_name}_validation_confusion_matrix.png'\n",
    "        plt.savefig(filename)\n",
    "        # log model artifacts\n",
    "        mlflow.log_artifact(filename) \n",
    "\n",
    "        # Plot and save AUC details  \n",
    "        plot_roc_curve(clf, X_valid, y_valid, name='Validation')\n",
    "        plt.title('ROC AUC Curve')\n",
    "        filename = f'./images/{model_name}_validation_roc_curve.png'\n",
    "        plt.savefig(filename)\n",
    "        # log model artifacts\n",
    "        mlflow.log_artifact(filename) "
   ]
  },
  {
   "cell_type": "markdown",
   "metadata": {},
   "source": [
    "## Entrenando una Regresión Logistica y evaluando + MLFlow para el model tracking"
   ]
  },
  {
   "cell_type": "code",
   "execution_count": 18,
   "metadata": {},
   "outputs": [
    {
     "name": "stderr",
     "output_type": "stream",
     "text": [
      "2022/08/02 00:41:27 WARNING mlflow.utils.autologging_utils: You are using an unsupported version of sklearn. If you encounter errors during autologging, try upgrading / downgrading sklearn to a supported version, or try upgrading MLflow.\n"
     ]
    },
    {
     "name": "stdout",
     "output_type": "stream",
     "text": [
      "=====================================\n",
      "Validación AUC:0.8909774436090225\n",
      "=====================================\n"
     ]
    },
    {
     "data": {
      "image/png": "[encoded data removed]",
      "text/plain": [
       "<Figure size 432x288 with 2 Axes>"
      ]
     },
     "metadata": {
      "needs_background": "light"
     },
     "output_type": "display_data"
    },
    {
     "data": {
      "image/png": "[encoded data removed]",
      "text/plain": [
       "<Figure size 432x288 with 1 Axes>"
      ]
     },
     "metadata": {
      "needs_background": "light"
     },
     "output_type": "display_data"
    }
   ],
   "source": [
    "classifier = LogisticRegression\n",
    "param = {\"C\":1, \"random_state\":20}\n",
    "model_name = 'Lt'\n",
    "run_name = 'LogisticRegression_model'\n",
    "model_experimentation(classifier, param, model_name, run_name)"
   ]
  },
  {
   "cell_type": "markdown",
   "metadata": {},
   "source": [
    "## Decision Tree Training and evaluation + MLFlow for model tracking"
   ]
  },
  {
   "cell_type": "code",
   "execution_count": 13,
   "metadata": {},
   "outputs": [
    {
     "name": "stderr",
     "output_type": "stream",
     "text": [
      "2022/08/02 00:05:25 WARNING mlflow.utils.autologging_utils: You are using an unsupported version of sklearn. If you encounter errors during autologging, try upgrading / downgrading sklearn to a supported version, or try upgrading MLflow.\n"
     ]
    },
    {
     "ename": "FileNotFoundError",
     "evalue": "[Errno 2] No such file or directory: 'requirements.txt'",
     "output_type": "error",
     "traceback": [
      "\u001b[1;31m---------------------------------------------------------------------------\u001b[0m",
      "\u001b[1;31mFileNotFoundError\u001b[0m                         Traceback (most recent call last)",
      "Input \u001b[1;32mIn [13]\u001b[0m, in \u001b[0;36m<cell line: 5>\u001b[1;34m()\u001b[0m\n\u001b[0;32m      3\u001b[0m model_name \u001b[38;5;241m=\u001b[39m \u001b[38;5;124m'\u001b[39m\u001b[38;5;124mdt\u001b[39m\u001b[38;5;124m'\u001b[39m\n\u001b[0;32m      4\u001b[0m run_name \u001b[38;5;241m=\u001b[39m \u001b[38;5;124m'\u001b[39m\u001b[38;5;124mDecisionTree_model\u001b[39m\u001b[38;5;124m'\u001b[39m\n\u001b[1;32m----> 5\u001b[0m \u001b[43mmodel_experimentation\u001b[49m\u001b[43m(\u001b[49m\u001b[43mclassifier\u001b[49m\u001b[43m,\u001b[49m\u001b[43m \u001b[49m\u001b[43mparam\u001b[49m\u001b[43m,\u001b[49m\u001b[43m \u001b[49m\u001b[43mmodel_name\u001b[49m\u001b[43m,\u001b[49m\u001b[43m \u001b[49m\u001b[43mrun_name\u001b[49m\u001b[43m)\u001b[49m\n",
      "Input \u001b[1;32mIn [11]\u001b[0m, in \u001b[0;36mmodel_experimentation\u001b[1;34m(classifier, param, model_name, run_name)\u001b[0m\n\u001b[0;32m     27\u001b[0m mlflow\u001b[38;5;241m.\u001b[39mset_tags(tags)\n\u001b[0;32m     29\u001b[0m \u001b[38;5;66;03m# Log python environment details\u001b[39;00m\n\u001b[1;32m---> 30\u001b[0m \u001b[43mmlflow\u001b[49m\u001b[38;5;241;43m.\u001b[39;49m\u001b[43mlog_artifact\u001b[49m\u001b[43m(\u001b[49m\u001b[38;5;124;43m'\u001b[39;49m\u001b[38;5;124;43mrequirements.txt\u001b[39;49m\u001b[38;5;124;43m'\u001b[39;49m\u001b[43m)\u001b[49m\n\u001b[0;32m     32\u001b[0m \u001b[38;5;66;03m# llevar acabo el model training\u001b[39;00m\n\u001b[0;32m     33\u001b[0m clf \u001b[38;5;241m=\u001b[39m classifier(\u001b[38;5;241m*\u001b[39m\u001b[38;5;241m*\u001b[39mparam)\n",
      "File \u001b[1;32m~\\miniconda3\\envs\\myenv\\lib\\site-packages\\mlflow\\tracking\\fluent.py:605\u001b[0m, in \u001b[0;36mlog_artifact\u001b[1;34m(local_path, artifact_path)\u001b[0m\n\u001b[0;32m    582\u001b[0m \u001b[38;5;124;03m\"\"\"\u001b[39;00m\n\u001b[0;32m    583\u001b[0m \u001b[38;5;124;03mLog a local file or directory as an artifact of the currently active run. If no run is\u001b[39;00m\n\u001b[0;32m    584\u001b[0m \u001b[38;5;124;03mactive, this method will create a new active run.\u001b[39;00m\n\u001b[1;32m   (...)\u001b[0m\n\u001b[0;32m    602\u001b[0m \u001b[38;5;124;03m        mlflow.log_artifact(\"features.txt\")\u001b[39;00m\n\u001b[0;32m    603\u001b[0m \u001b[38;5;124;03m\"\"\"\u001b[39;00m\n\u001b[0;32m    604\u001b[0m run_id \u001b[38;5;241m=\u001b[39m _get_or_start_run()\u001b[38;5;241m.\u001b[39minfo\u001b[38;5;241m.\u001b[39mrun_id\n\u001b[1;32m--> 605\u001b[0m \u001b[43mMlflowClient\u001b[49m\u001b[43m(\u001b[49m\u001b[43m)\u001b[49m\u001b[38;5;241;43m.\u001b[39;49m\u001b[43mlog_artifact\u001b[49m\u001b[43m(\u001b[49m\u001b[43mrun_id\u001b[49m\u001b[43m,\u001b[49m\u001b[43m \u001b[49m\u001b[43mlocal_path\u001b[49m\u001b[43m,\u001b[49m\u001b[43m \u001b[49m\u001b[43martifact_path\u001b[49m\u001b[43m)\u001b[49m\n",
      "File \u001b[1;32m~\\miniconda3\\envs\\myenv\\lib\\site-packages\\mlflow\\tracking\\client.py:955\u001b[0m, in \u001b[0;36mMlflowClient.log_artifact\u001b[1;34m(self, run_id, local_path, artifact_path)\u001b[0m\n\u001b[0;32m    920\u001b[0m \u001b[38;5;28;01mdef\u001b[39;00m \u001b[38;5;21mlog_artifact\u001b[39m(\u001b[38;5;28mself\u001b[39m, run_id, local_path, artifact_path\u001b[38;5;241m=\u001b[39m\u001b[38;5;28;01mNone\u001b[39;00m) \u001b[38;5;241m-\u001b[39m\u001b[38;5;241m>\u001b[39m \u001b[38;5;28;01mNone\u001b[39;00m:\n\u001b[0;32m    921\u001b[0m     \u001b[38;5;124;03m\"\"\"\u001b[39;00m\n\u001b[0;32m    922\u001b[0m \u001b[38;5;124;03m    Write a local file or directory to the remote ``artifact_uri``.\u001b[39;00m\n\u001b[0;32m    923\u001b[0m \n\u001b[1;32m   (...)\u001b[0m\n\u001b[0;32m    953\u001b[0m \u001b[38;5;124;03m        is_dir: False\u001b[39;00m\n\u001b[0;32m    954\u001b[0m \u001b[38;5;124;03m    \"\"\"\u001b[39;00m\n\u001b[1;32m--> 955\u001b[0m     \u001b[38;5;28;43mself\u001b[39;49m\u001b[38;5;241;43m.\u001b[39;49m\u001b[43m_tracking_client\u001b[49m\u001b[38;5;241;43m.\u001b[39;49m\u001b[43mlog_artifact\u001b[49m\u001b[43m(\u001b[49m\u001b[43mrun_id\u001b[49m\u001b[43m,\u001b[49m\u001b[43m \u001b[49m\u001b[43mlocal_path\u001b[49m\u001b[43m,\u001b[49m\u001b[43m \u001b[49m\u001b[43martifact_path\u001b[49m\u001b[43m)\u001b[49m\n",
      "File \u001b[1;32m~\\miniconda3\\envs\\myenv\\lib\\site-packages\\mlflow\\tracking\\_tracking_service\\client.py:355\u001b[0m, in \u001b[0;36mTrackingServiceClient.log_artifact\u001b[1;34m(self, run_id, local_path, artifact_path)\u001b[0m\n\u001b[0;32m    353\u001b[0m     artifact_repo\u001b[38;5;241m.\u001b[39mlog_artifacts(local_path, path_name)\n\u001b[0;32m    354\u001b[0m \u001b[38;5;28;01melse\u001b[39;00m:\n\u001b[1;32m--> 355\u001b[0m     \u001b[43martifact_repo\u001b[49m\u001b[38;5;241;43m.\u001b[39;49m\u001b[43mlog_artifact\u001b[49m\u001b[43m(\u001b[49m\u001b[43mlocal_path\u001b[49m\u001b[43m,\u001b[49m\u001b[43m \u001b[49m\u001b[43martifact_path\u001b[49m\u001b[43m)\u001b[49m\n",
      "File \u001b[1;32m~\\miniconda3\\envs\\myenv\\lib\\site-packages\\mlflow\\store\\artifact\\local_artifact_repo.py:38\u001b[0m, in \u001b[0;36mLocalArtifactRepository.log_artifact\u001b[1;34m(self, local_file, artifact_path)\u001b[0m\n\u001b[0;32m     36\u001b[0m \u001b[38;5;28;01mif\u001b[39;00m \u001b[38;5;129;01mnot\u001b[39;00m os\u001b[38;5;241m.\u001b[39mpath\u001b[38;5;241m.\u001b[39mexists(artifact_dir):\n\u001b[0;32m     37\u001b[0m     mkdir(artifact_dir)\n\u001b[1;32m---> 38\u001b[0m \u001b[43mshutil\u001b[49m\u001b[38;5;241;43m.\u001b[39;49m\u001b[43mcopyfile\u001b[49m\u001b[43m(\u001b[49m\u001b[43mlocal_file\u001b[49m\u001b[43m,\u001b[49m\u001b[43m \u001b[49m\u001b[43mos\u001b[49m\u001b[38;5;241;43m.\u001b[39;49m\u001b[43mpath\u001b[49m\u001b[38;5;241;43m.\u001b[39;49m\u001b[43mjoin\u001b[49m\u001b[43m(\u001b[49m\u001b[43martifact_dir\u001b[49m\u001b[43m,\u001b[49m\u001b[43m \u001b[49m\u001b[43mos\u001b[49m\u001b[38;5;241;43m.\u001b[39;49m\u001b[43mpath\u001b[49m\u001b[38;5;241;43m.\u001b[39;49m\u001b[43mbasename\u001b[49m\u001b[43m(\u001b[49m\u001b[43mlocal_file\u001b[49m\u001b[43m)\u001b[49m\u001b[43m)\u001b[49m\u001b[43m)\u001b[49m\n",
      "File \u001b[1;32m~\\miniconda3\\envs\\myenv\\lib\\shutil.py:264\u001b[0m, in \u001b[0;36mcopyfile\u001b[1;34m(src, dst, follow_symlinks)\u001b[0m\n\u001b[0;32m    262\u001b[0m     os\u001b[38;5;241m.\u001b[39msymlink(os\u001b[38;5;241m.\u001b[39mreadlink(src), dst)\n\u001b[0;32m    263\u001b[0m \u001b[38;5;28;01melse\u001b[39;00m:\n\u001b[1;32m--> 264\u001b[0m     \u001b[38;5;28;01mwith\u001b[39;00m \u001b[38;5;28;43mopen\u001b[39;49m\u001b[43m(\u001b[49m\u001b[43msrc\u001b[49m\u001b[43m,\u001b[49m\u001b[43m \u001b[49m\u001b[38;5;124;43m'\u001b[39;49m\u001b[38;5;124;43mrb\u001b[39;49m\u001b[38;5;124;43m'\u001b[39;49m\u001b[43m)\u001b[49m \u001b[38;5;28;01mas\u001b[39;00m fsrc:\n\u001b[0;32m    265\u001b[0m         \u001b[38;5;28;01mtry\u001b[39;00m:\n\u001b[0;32m    266\u001b[0m             \u001b[38;5;28;01mwith\u001b[39;00m \u001b[38;5;28mopen\u001b[39m(dst, \u001b[38;5;124m'\u001b[39m\u001b[38;5;124mwb\u001b[39m\u001b[38;5;124m'\u001b[39m) \u001b[38;5;28;01mas\u001b[39;00m fdst:\n\u001b[0;32m    267\u001b[0m                 \u001b[38;5;66;03m# macOS\u001b[39;00m\n",
      "\u001b[1;31mFileNotFoundError\u001b[0m: [Errno 2] No such file or directory: 'requirements.txt'"
     ]
    }
   ],
   "source": [
    "classifier = DecisionTreeClassifier\n",
    "param = {\"max_depth\":3, \"random_state\":20}\n",
    "model_name = 'dt'\n",
    "run_name = 'DecisionTree_model'\n",
    "model_experimentation(classifier, param, model_name, run_name)"
   ]
  },
  {
   "cell_type": "markdown",
   "metadata": {},
   "source": [
    "## Random Forest Training and evaluation + MLFlow for model tracking"
   ]
  },
  {
   "cell_type": "code",
   "execution_count": 25,
   "metadata": {},
   "outputs": [
    {
     "name": "stderr",
     "output_type": "stream",
     "text": [
      "2022/07/25 18:55:33 WARNING mlflow.utils.autologging_utils: You are using an unsupported version of sklearn. If you encounter errors during autologging, try upgrading / downgrading sklearn to a supported version, or try upgrading MLflow.\n"
     ]
    },
    {
     "name": "stdout",
     "output_type": "stream",
     "text": [
      "=====================================\n",
      "Validación AUC:0.887218045112782\n",
      "=====================================\n"
     ]
    },
    {
     "data": {
      "image/png": "[encoded data removed]",
      "text/plain": [
       "<Figure size 432x288 with 2 Axes>"
      ]
     },
     "metadata": {
      "needs_background": "light"
     },
     "output_type": "display_data"
    },
    {
     "data": {
      "image/png": "[encoded data removed]",
      "text/plain": [
       "<Figure size 432x288 with 1 Axes>"
      ]
     },
     "metadata": {
      "needs_background": "light"
     },
     "output_type": "display_data"
    }
   ],
   "source": [
    "classifier = RandomForestClassifier\n",
    "param = {\"max_depth\":3, \"random_state\":20}\n",
    "model_name = 'rf'\n",
    "run_name = 'randomForest_model'\n",
    "model_experimentation(classifier, param, model_name, run_name)"
   ]
  },
  {
   "cell_type": "markdown",
   "metadata": {},
   "source": [
    "## Gradient Boosting Training and evaluation + MLFlow for model tracking"
   ]
  },
  {
   "cell_type": "code",
   "execution_count": 26,
   "metadata": {},
   "outputs": [
    {
     "name": "stderr",
     "output_type": "stream",
     "text": [
      "2022/07/25 18:56:06 WARNING mlflow.utils.autologging_utils: You are using an unsupported version of sklearn. If you encounter errors during autologging, try upgrading / downgrading sklearn to a supported version, or try upgrading MLflow.\n"
     ]
    },
    {
     "name": "stdout",
     "output_type": "stream",
     "text": [
      "=====================================\n",
      "Validación AUC:0.8909774436090225\n",
      "=====================================\n"
     ]
    },
    {
     "data": {
      "image/png": "[encoded data removed]",
      "text/plain": [
       "<Figure size 432x288 with 2 Axes>"
      ]
     },
     "metadata": {
      "needs_background": "light"
     },
     "output_type": "display_data"
    },
    {
     "data": {
      "image/png": "[encoded data removed]",
      "text/plain": [
       "<Figure size 432x288 with 1 Axes>"
      ]
     },
     "metadata": {
      "needs_background": "light"
     },
     "output_type": "display_data"
    }
   ],
   "source": [
    "classifier = GradientBoostingClassifier\n",
    "param = {\"max_depth\":3, \"random_state\":20}\n",
    "model_name = 'gbm'\n",
    "run_name = 'GradientBoosting_model'\n",
    "model_experimentation(classifier, param, model_name, run_name)"
   ]
  },
  {
   "cell_type": "markdown",
   "metadata": {},
   "source": [
    "## Lightgbm Training and evaluation + MLFlow for model tracking"
   ]
  },
  {
   "cell_type": "code",
   "execution_count": 27,
   "metadata": {},
   "outputs": [
    {
     "name": "stdout",
     "output_type": "stream",
     "text": [
      "[20]\ttraining's auc: 0.980254\tvalid_1's auc: 0.883459\n",
      "[40]\ttraining's auc: 0.989177\tvalid_1's auc: 0.906015\n",
      "[60]\ttraining's auc: 0.994442\tvalid_1's auc: 0.902256\n",
      "[80]\ttraining's auc: 0.998245\tvalid_1's auc: 0.917293\n",
      "[100]\ttraining's auc: 0.999561\tvalid_1's auc: 0.917293\n",
      "=====================================\n",
      "Validation AUC:0.9172932330827068\n",
      "=====================================\n"
     ]
    },
    {
     "data": {
      "image/png": "[encoded data removed]",
      "text/plain": [
       "<Figure size 432x288 with 1 Axes>"
      ]
     },
     "metadata": {
      "needs_background": "light"
     },
     "output_type": "display_data"
    },
    {
     "data": {
      "image/png": "[encoded data removed]",
      "text/plain": [
       "<Figure size 432x288 with 1 Axes>"
      ]
     },
     "metadata": {
      "needs_background": "light"
     },
     "output_type": "display_data"
    },
    {
     "data": {
      "image/png": "[encoded data removed]",
      "text/plain": [
       "<Figure size 432x288 with 2 Axes>"
      ]
     },
     "metadata": {
      "needs_background": "light"
     },
     "output_type": "display_data"
    },
    {
     "data": {
      "image/png": "[encoded data removed]",
      "text/plain": [
       "<Figure size 432x288 with 1 Axes>"
      ]
     },
     "metadata": {
      "needs_background": "light"
     },
     "output_type": "display_data"
    }
   ],
   "source": [
    "# Lanzar múltiples ejecuciones en un programa. Esto es fácil de hacer porque el objeto ActiveRun \n",
    "#devuelto por mlflow.start_run() es un\n",
    "# Administrador de contexto de Python. Puede \"alcanzar\" cada ejecución a un solo bloque de código \n",
    "#de la siguiente manera:\n",
    "with mlflow.start_run(experiment_id=experiment_id, run_name='Lightgbm_model') as run:\n",
    "    # Get run id \n",
    "    run_id = run.info.run_uuid\n",
    "\n",
    "    # Proporcione notas breves sobre el run\n",
    "    MlflowClient().set_tag(run_id,\n",
    "                           \"mlflow.note.content\",\n",
    "                           \"This is experiment for exploring different machine learning models for Campus Recruitment Dataset\")\n",
    "\n",
    "        \n",
    "    # Define tag\n",
    "    tags = {\"Application\": \"Payment Monitoring Platform\",\n",
    "            \"release.candidate\": \"PMP\",\n",
    "            \"release.version\": \"2.2.0\"}\n",
    "            \n",
    "    # Set Tag\n",
    "    mlflow.set_tags(tags)\n",
    "    \n",
    "    # Log python environment details\n",
    "    mlflow.log_artifact('requirements.txt')\n",
    "\n",
    "    # Define model parameter\n",
    "    params = {\n",
    "        \"objective\": \"binary\",\n",
    "        \"learning_rate\": 0.05,\n",
    "        \"metric\": \"auc\",\n",
    "        \"colsample_bytree\": 0.7,\n",
    "        \"subsample\": 0.8,\n",
    "        \"seed\": 42,\n",
    "    }\n",
    "        \n",
    "    # logging params\n",
    "    mlflow.log_params(params)\n",
    "    \n",
    "    # Perform model training\n",
    "    lgb_clf = LGBMClassifier(**params)\n",
    "    lgb_clf.fit(X_train, y_train, \n",
    "                eval_set = [(X_train, y_train), (X_valid, y_valid)], \n",
    "                early_stopping_rounds=50,\n",
    "                verbose=20)\n",
    "        \n",
    "    # Log model artifacts\n",
    "    mlflow.sklearn.log_model(lgb_clf, \"model\")\n",
    "    \n",
    "    # Perform model evaluation \n",
    "    lgb_valid_prediction = lgb_clf.predict_proba(X_valid)[:, 1]\n",
    "    fpr, tpr, thresholds = roc_curve(y_valid, lgb_valid_prediction)\n",
    "    roc_auc = auc(fpr, tpr) # compute area under the curve\n",
    "    print(\"=====================================\")\n",
    "    print(\"Validation AUC:{}\".format(roc_auc))\n",
    "    print(\"=====================================\")   \n",
    "        \n",
    "    # log metrics\n",
    "    mlflow.log_metrics({\"Validation_AUC\": roc_auc})\n",
    "       \n",
    "    # Plot and save feature importance details\n",
    "    ax = plot_importance(lgb_clf, height=0.4)\n",
    "    filename = './images/lgb_validation_feature_importance.png'\n",
    "    plt.savefig(filename)\n",
    "    # log model artifacts\n",
    "    mlflow.log_artifact(filename)\n",
    "    \n",
    "    ax = plot_metric(lgb_clf.evals_result_)\n",
    "    filename = './images/lgb_validation_metrics_comparision.png'\n",
    "    plt.savefig(filename)\n",
    "    # log model artifacts\n",
    "    mlflow.log_artifact(filename)\n",
    "    \n",
    "    # Plot and save metrics details    \n",
    "    plot_confusion_matrix(lgb_clf, X_valid, y_valid, \n",
    "                          display_labels=['Placed', 'Not Placed'],\n",
    "                          cmap='magma')\n",
    "    plt.title('Confusion Matrix')\n",
    "    filename = './images/lgb_validation_confusion_matrix.png'\n",
    "    plt.savefig(filename)\n",
    "    # log model artifacts\n",
    "    mlflow.log_artifact(filename)\n",
    "    \n",
    "    # Plot and save AUC details  \n",
    "    plot_roc_curve(lgb_clf, X_valid, y_valid, name='Validation')\n",
    "    plt.title('ROC AUC Curve')\n",
    "    filename = './images/lgb_validation_roc_curve.png'\n",
    "    plt.savefig(filename)\n",
    "    # log model artifacts\n",
    "    mlflow.log_artifact(filename)"
   ]
  },
  {
   "cell_type": "code",
   "execution_count": null,
   "metadata": {},
   "outputs": [],
   "source": []
  }
 ],
 "metadata": {
  "kernelspec": {
   "display_name": "Python 3 (ipykernel)",
   "language": "python",
   "name": "python3"
  },
  "language_info": {
   "codemirror_mode": {
    "name": "ipython",
    "version": 3
   },
   "file_extension": ".py",
   "mimetype": "text/x-python",
   "name": "python",
   "nbconvert_exporter": "python",
   "pygments_lexer": "ipython3",
   "version": "3.9.9"
  }
 },
 "nbformat": 4,
 "nbformat_minor": 4
}
